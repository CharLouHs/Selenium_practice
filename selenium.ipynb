{
 "cells": [
  {
   "cell_type": "code",
   "execution_count": 55,
   "id": "3680f5cf",
   "metadata": {
    "scrolled": true
   },
   "outputs": [
    {
     "name": "stderr",
     "output_type": "stream",
     "text": [
      "<ipython-input-55-faed7d999d46>:2: DeprecationWarning: executable_path has been deprecated, please pass in a Service object\n",
      "  driver = webdriver.Chrome('chromedriver.exe')\n"
     ]
    }
   ],
   "source": [
    "from selenium import webdriver\n",
    "driver = webdriver.Chrome('chromedriver.exe')\n",
    "\n",
    "#登入輸入帳密"
   ]
  },
  {
   "cell_type": "code",
   "execution_count": 56,
   "id": "344b652f",
   "metadata": {},
   "outputs": [],
   "source": [
    "driver.get(\"https://www.momoshop.com.tw/goods/GoodsDetail.jsp?i_code=10048253&str_category_code=2163000017\")"
   ]
  },
  {
   "cell_type": "code",
   "execution_count": 57,
   "id": "96032ae9",
   "metadata": {},
   "outputs": [],
   "source": [
    "import json\n",
    "cookie=driver.get_cookies()\n",
    "with open('momo.json','w')as f:\n",
    "    f.write(json.dumps(cookie))"
   ]
  },
  {
   "cell_type": "code",
   "execution_count": 79,
   "id": "b890c440",
   "metadata": {},
   "outputs": [
    {
     "name": "stderr",
     "output_type": "stream",
     "text": [
      "<ipython-input-79-faed7d999d46>:2: DeprecationWarning: executable_path has been deprecated, please pass in a Service object\n",
      "  driver = webdriver.Chrome('chromedriver.exe')\n"
     ]
    }
   ],
   "source": [
    "#登出並接續執行下去\n",
    "from selenium import webdriver\n",
    "driver = webdriver.Chrome('chromedriver.exe')"
   ]
  },
  {
   "cell_type": "code",
   "execution_count": 80,
   "id": "84821330",
   "metadata": {},
   "outputs": [],
   "source": [
    "driver.get(\"https://www.momoshop.com.tw/goods/GoodsDetail.jsp?i_code=10048253&str_category_code=2163000017\")"
   ]
  },
  {
   "cell_type": "code",
   "execution_count": 81,
   "id": "3d70e92b",
   "metadata": {},
   "outputs": [],
   "source": [
    "with open('momo.json','r')as f:\n",
    "    data=json.loads(f.read())"
   ]
  },
  {
   "cell_type": "code",
   "execution_count": 82,
   "id": "e3c184a2",
   "metadata": {},
   "outputs": [],
   "source": [
    "for c in data:\n",
    "    driver.add_cookie(c)\n",
    "driver.refresh()"
   ]
  },
  {
   "cell_type": "code",
   "execution_count": 83,
   "id": "247dd033",
   "metadata": {},
   "outputs": [
    {
     "name": "stderr",
     "output_type": "stream",
     "text": [
      "<ipython-input-83-1315e257b87e>:3: DeprecationWarning: find_element_by_* commands are deprecated. Please use find_element() instead\n",
      "  buy=driver.find_element_by_id('buy_yes')\n",
      "<ipython-input-83-1315e257b87e>:5: DeprecationWarning: find_element_by_* commands are deprecated. Please use find_element() instead\n",
      "  driver.find_element_by_id('buy_yes').click()\n"
     ]
    }
   ],
   "source": [
    "#notice=driver.find_element_by_id('buy_no')\n",
    "import time\n",
    "buy=driver.find_element_by_id('buy_yes')\n",
    "if buy:\n",
    "    driver.find_element_by_id('buy_yes').click()\n",
    "else:\n",
    "    driver.get(\"https://www.momoshop.com.tw/goods/GoodsDetail.jsp?i_code=10048253&str_category_code=2163000017\")\n",
    "    "
   ]
  },
  {
   "cell_type": "code",
   "execution_count": null,
   "id": "c815d999",
   "metadata": {},
   "outputs": [],
   "source": []
  }
 ],
 "metadata": {
  "kernelspec": {
   "display_name": "Python 3",
   "language": "python",
   "name": "python3"
  },
  "language_info": {
   "codemirror_mode": {
    "name": "ipython",
    "version": 3
   },
   "file_extension": ".py",
   "mimetype": "text/x-python",
   "name": "python",
   "nbconvert_exporter": "python",
   "pygments_lexer": "ipython3",
   "version": "3.8.8"
  }
 },
 "nbformat": 4,
 "nbformat_minor": 5
}
